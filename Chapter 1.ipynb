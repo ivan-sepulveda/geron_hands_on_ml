{
 "cells": [
  {
   "cell_type": "markdown",
   "metadata": {},
   "source": [
    "# Example 1-1"
   ]
  },
  {
   "cell_type": "code",
   "execution_count": 28,
   "metadata": {},
   "outputs": [],
   "source": [
    "# Imports\n",
    "import matplotlib.pyplot as plt\n",
    "import numpy as np\n",
    "import pandas as pd\n",
    "import sklearn.linear_model\n",
    "import os\n"
   ]
  },
  {
   "cell_type": "code",
   "execution_count": 29,
   "metadata": {},
   "outputs": [],
   "source": [
    "# Load the data\n",
    "datasets_dir = os.path.join(os.getcwd(), \"data\")\n",
    "life_satisfaction_data = os.path.join(datasets_dir, \"lifesat\")\n",
    "\n",
    "\n",
    "# Organisation for Economic Co-operation and Development (OECD)\n",
    "# Better Life Index (BLI)\n",
    "oecd_bli_fp = os.path.join(life_satisfaction_data, \"oecd_bli_2015.csv\")\n",
    "oecd_bli_df = pd.read_csv(filepath_or_buffer=oecd_bli_fp, thousands=',')\n",
    "\n",
    "gdp_per_capita_fp = os.path.join(life_satisfaction_data, \"gdp_per_capita.csv\")\n",
    "gdp_per_capita_df = pd.read_csv(filepath_or_buffer=gdp_per_capital_fp,\n",
    "                                   thousands=',',\n",
    "                                   sep='\\t', \n",
    "                                   encoding='latin1')\n",
    "\n",
    "# Notes:\n",
    "# arg -> thousands=',': Thousands separator (could be '.' for Latin America & Europe)"
   ]
  },
  {
   "cell_type": "code",
   "execution_count": 51,
   "metadata": {},
   "outputs": [],
   "source": [
    "# Prepare the Data\n",
    "# Taken from https://github.com/ageron/handson-ml/blob/master/01_the_machine_learning_landscape.ipynb\n",
    "\n",
    "gdp_per_capita = gdp_per_capita_df.copy()\n",
    "oecd_bli = oecd_bli_df.copy()\n",
    "\n",
    "oecd_bli = oecd_bli[oecd_bli[\"INEQUALITY\"]==\"TOT\"]\n",
    "oecd_bli = oecd_bli.pivot(index=\"Country\", columns=\"Indicator\", values=\"Value\")\n",
    "gdp_per_capita.rename(columns={\"2015\": \"GDP per capita\"}, inplace=True)\n",
    "gdp_per_capita.set_index(\"Country\", inplace=True)\n",
    "full_country_stats = pd.merge(left=oecd_bli, right=gdp_per_capita,\n",
    "                              left_index=True, right_index=True)\n",
    "full_country_stats.sort_values(by=\"GDP per capita\", inplace=True)\n",
    "remove_indices = [0, 1, 6, 8, 33, 34, 35]\n",
    "keep_indices = list(set(range(36)) - set(remove_indices))\n",
    "country_stats = full_country_stats[[\"GDP per capita\", 'Life satisfaction']].iloc[keep_indices]\n",
    "x = np.c_[country_stats[\"GDP per capita\"]]\n",
    "y = np.c_[country_stats[\"Life satisfaction\"]]"
   ]
  },
  {
   "cell_type": "code",
   "execution_count": 46,
   "metadata": {},
   "outputs": [
    {
     "data": {
      "text/html": [
       "<div>\n",
       "<style scoped>\n",
       "    .dataframe tbody tr th:only-of-type {\n",
       "        vertical-align: middle;\n",
       "    }\n",
       "\n",
       "    .dataframe tbody tr th {\n",
       "        vertical-align: top;\n",
       "    }\n",
       "\n",
       "    .dataframe thead th {\n",
       "        text-align: right;\n",
       "    }\n",
       "</style>\n",
       "<table border=\"1\" class=\"dataframe\">\n",
       "  <thead>\n",
       "    <tr style=\"text-align: right;\">\n",
       "      <th></th>\n",
       "      <th>GDP per capita</th>\n",
       "      <th>Life satisfaction</th>\n",
       "    </tr>\n",
       "    <tr>\n",
       "      <th>Country</th>\n",
       "      <th></th>\n",
       "      <th></th>\n",
       "    </tr>\n",
       "  </thead>\n",
       "  <tbody>\n",
       "    <tr>\n",
       "      <th>Russia</th>\n",
       "      <td>9054.914</td>\n",
       "      <td>6.0</td>\n",
       "    </tr>\n",
       "    <tr>\n",
       "      <th>Turkey</th>\n",
       "      <td>9437.372</td>\n",
       "      <td>5.6</td>\n",
       "    </tr>\n",
       "    <tr>\n",
       "      <th>Hungary</th>\n",
       "      <td>12239.894</td>\n",
       "      <td>4.9</td>\n",
       "    </tr>\n",
       "    <tr>\n",
       "      <th>Poland</th>\n",
       "      <td>12495.334</td>\n",
       "      <td>5.8</td>\n",
       "    </tr>\n",
       "    <tr>\n",
       "      <th>Slovak Republic</th>\n",
       "      <td>15991.736</td>\n",
       "      <td>6.1</td>\n",
       "    </tr>\n",
       "  </tbody>\n",
       "</table>\n",
       "</div>"
      ],
      "text/plain": [
       "                 GDP per capita  Life satisfaction\n",
       "Country                                           \n",
       "Russia                 9054.914                6.0\n",
       "Turkey                 9437.372                5.6\n",
       "Hungary               12239.894                4.9\n",
       "Poland                12495.334                5.8\n",
       "Slovak Republic       15991.736                6.1"
      ]
     },
     "execution_count": 46,
     "metadata": {},
     "output_type": "execute_result"
    }
   ],
   "source": [
    "country_stats.head()"
   ]
  },
  {
   "cell_type": "code",
   "execution_count": 47,
   "metadata": {},
   "outputs": [
    {
     "data": {
      "image/png": "[encoded data removed]",
      "text/plain": [
       "<Figure size 432x288 with 1 Axes>"
      ]
     },
     "metadata": {
      "needs_background": "light"
     },
     "output_type": "display_data"
    }
   ],
   "source": [
    "# Visualize the data\n",
    "country_stats.plot(\n",
    "    kind='scatter',\n",
    "    x='GDP per capita',\n",
    "    y='Life satisfaction'\n",
    ")\n",
    "\n",
    "plt.show()"
   ]
  },
  {
   "cell_type": "code",
   "execution_count": 55,
   "metadata": {},
   "outputs": [
    {
     "data": {
      "text/plain": [
       "LinearRegression()"
      ]
     },
     "execution_count": 55,
     "metadata": {},
     "output_type": "execute_result"
    }
   ],
   "source": [
    "# Select a linear model\n",
    "model = sklearn.linear_model.LinearRegression()\n",
    "model.fit(x, y)"
   ]
  },
  {
   "cell_type": "code",
   "execution_count": 56,
   "metadata": {},
   "outputs": [
    {
     "name": "stdout",
     "output_type": "stream",
     "text": [
      "[[5.96242338]]\n"
     ]
    }
   ],
   "source": [
    "# Make a prediction for Cyprus\n",
    "X_new = [[22587]] # Cyprus's GDP per capita\n",
    "print(model.predict(X_new))"
   ]
  },
  {
   "cell_type": "code",
   "execution_count": 57,
   "metadata": {},
   "outputs": [
    {
     "name": "stdout",
     "output_type": "stream",
     "text": [
      "[[5.76666667]]\n"
     ]
    }
   ],
   "source": [
    "# Try out K-Nearest Neighbords Regression Model\n",
    "import sklearn.neighbors\n",
    "knn_reg_model = sklearn.neighbors.KNeighborsRegressor(n_neighbors=3)\n",
    "knn_reg_model.fit(x, y)\n",
    "print(knn_reg_model.predict(X_new))"
   ]
  },
  {
   "cell_type": "markdown",
   "metadata": {},
   "source": [
    "## Exercises"
   ]
  },
  {
   "cell_type": "code",
   "execution_count": 6,
   "metadata": {},
   "outputs": [
    {
     "name": "stdout",
     "output_type": "stream",
     "text": [
      "\n"
     ]
    }
   ],
   "source": [
    "\"\"\"\n",
    "1. \n",
    "    Q - How would you define Machine Learning? \n",
    "    A - An algorithm/method that allows the computer to make predictions for new instances, based on past data,\n",
    "        without needing to be explicity programmed.\n",
    "    Book Answer - Machine Learning is about building systems that can learn from data. Learning \n",
    "                 means getting better at some task , given some performance measure.\n",
    "\n",
    "2.\n",
    "    Q - Can you name four types of problems where it shines?\n",
    "    A - \n",
    "        i. Problems w/ changing data (dynamic)\n",
    "        ii. Problems with complex solutions/patterns\n",
    "        iii.\n",
    "        iv. \n",
    "    Book Answer - \n",
    "        i. Complex problems for which we have no algorithmic Solution\n",
    "        ii. To replace long lists of hand-tuned rules\n",
    "        iii. To build systems that adapt to fluctuating environments.\n",
    "        iv. Help humans learn (data mining)\n",
    "\n",
    "3.\n",
    "    Q - What is a labeled training set?\n",
    "    A - The prediction for the data (y) is given. \n",
    "    Book Answer - A labeled training set is a set training set that contains the desired solution\n",
    "                  (a.k.a. a label for each instance).\n",
    "\n",
    "4.\n",
    "    Q - What are the two most common supervised tasks?\n",
    "    A - Don't know\n",
    "    Book Answer - The two most common supervised tasks are regression and classification.\n",
    "\n",
    "5. \n",
    "    Q - Can you name four common supervised tasks?\n",
    "    A - No, my short/mid term memory isn't that great.\n",
    "    Book Answer - \n",
    "        i. Clustering\n",
    "        ii. Visualization\n",
    "        iii. Dimensionality Reduction\n",
    "        iv. Association Rule Learning\n",
    "\n",
    "6.\n",
    "    Q - What type of Machine Learning algorithm would you use to \n",
    "        allow a robot to walk in various unknown terrains?\n",
    "    A - Reinforcement Learning\n",
    "    Book Answer - Reinforcement Learning is likely to perform best if we want a robot to learn to\n",
    "                  walk in various unkown terrains, since this is typically the type of problem that\n",
    "                  Reinforcement Learning tackles. It might be possible to express the problem as a \n",
    "                  a supervised or semisupervised learning problem, but it would be less natural.\n",
    "\n",
    "7. \n",
    "    Q - What type of algorithm would you use to segment your customers\n",
    "        into multiple groups?\n",
    "    A - K-Nearest Neighbors or K-Means\n",
    "    Book Answer - If you don't know how to define the groups, then you can use a clustering algorithm\n",
    "                  (unsupervised learning) to segment your customers into clusters of similar customers.\n",
    "                  However, if. you know what groups you would like to have, then you can feed many \n",
    "                  examples of each group into a classification algorithm (supervised learning), and it\n",
    "                  will classify all your customers into these groups.\n",
    "\n",
    "8. \n",
    "    Q - Would you frame the problem of spam detection as a supervised learning problem\n",
    "        or an unsupervised learning problem?\n",
    "    A - Supervised, but could be either if you're just grouping without classification labels.\n",
    "    Book Answer - Spam detection is a typical supervised learning problem: the algorithm is fed\n",
    "                  many emails along with their lables (spam or not spam)\n",
    "\n",
    "9.\n",
    "    Q - What is an online learning system?\n",
    "    A - A system that learns from each new instance.\n",
    "    Book Answer - An online learning system can learn incrementally, as opposed to a batch learning\n",
    "                  system. This makes it capable of adapting rapidly to both changing data and\n",
    "                  autonomous systems, and of training on very large quantities of data.\n",
    "\n",
    "10. \n",
    "    Q - What is out-of-core learning?\n",
    "    A - I forgot\n",
    "    Book Answer - Out-out-core algorithms can handle vast quantities of data that cannot fit into\n",
    "                  a computer's main memory. An out-of-core learning algorithmn chops the data into \n",
    "                  mini-batches and uses online learning techniques to learn from these mini-batches.\n",
    "\n",
    "11. \n",
    "    Q - What type of learning algorithm relies on similarity measure to make predictions?\n",
    "    A - Instance based learning\n",
    "    Book Answer - An instance-based learning system learns the training data by heart; then, when\n",
    "                  given a new instance, it uses a similarity measure to find the mnost similar learned\n",
    "                  instances and uses them to make predictions.\n",
    "\n",
    "12. \n",
    "    Q - What is the difference between a model parameter and a learning algoritm's hyperparameter?\n",
    "    A - Model parameter defines pattern of data (or at least the assumptions for it).\n",
    "        For example y = mx + b -> m (slope) and b (intercept) are model parameters\n",
    "        Learning Algo. Hyperparams: Learning rate, for example a limit on how the algorithm adjust \n",
    "        either m or b as it learns\n",
    "    Book Answer - \n",
    "        Model Parameters - \n",
    "            A model has one or more model parameters that determine what it will predict given a new instance\n",
    "            (e.g. th eslope of a linear model). A learning algorithm tries to find optimal values for these\n",
    "            parameters such that the model generalizes well to new instances.\n",
    "        Hyperparameters - \n",
    "            A hypterparameter is a parameter of the learning algorithm itself, not of the model (e.g. the\n",
    "            amount of regularization to apply).\n",
    "\n",
    "13. \n",
    "    Q - i. What do model based learning algorithms search for? \n",
    "        ii. What is the most common stregety they sure to succeed? \n",
    "        iii. How do they make predictions?\n",
    "    A - i. Patterns in the data\n",
    "        ii. Minimum Error / Maximize Accuracy\n",
    "        iii. By using past data, they create a model (with assumptions of a pattern). The past data\n",
    "             helps tune the model parameters (like linear slope)\n",
    "     Book Answer - \n",
    "         i. Model-based learning systems search for an optimal value for the model parameters such that the\n",
    "         model will generalize well to new instances.\n",
    "         ii. We usually train such systems by minimizing a cost function that measures how bad the system is\n",
    "         at making predictions on the training data, plus a penalty fo rmodel complexity if the model is\n",
    "         regularized.\n",
    "         iii. To make predictions, we feed the new instance's features into the mnodel's prediction function, \n",
    "         using the parameter values found by the learning algorithm.\n",
    "\n",
    "14.\n",
    "    Q - Can you name the four main challenges in Machine Learning?\n",
    "    A - Bad Data / Bad Algoritms?\n",
    "    Book Answer - \n",
    "        i. Lack of data\n",
    "        ii. Poor data quality\n",
    "        iii. Nonrepresentative data\n",
    "        iv. Uninformative features\n",
    "        v. Excessively simple models that underfit the training data\n",
    "        vi. Excessively complex models that overfit the data\n",
    "\n",
    "15.\n",
    "    Q - If your model performs great on the training data but generalizes poorly to new instances,\n",
    "        what is happening? Can you name three possible solutions?\n",
    "    A - Overfitting the training data. Solutions below\n",
    "        i. Use a simpler model (e.g. use linear regression rather than a polynomial)\n",
    "        ii. Clean up data (remove non-representative data points)\n",
    "        iii\n",
    "    Book Answer - If a model performs great on the training data but generalizes poorly to new instances\n",
    "                  the model is likely overfitting the training data (or we got extremely lucky on the \n",
    "                  training data). Possible solutions to overfitting are getting more data, simplifying the\n",
    "                  model (selecting a simpler algorithm, reducing the number of parameters or features used,\n",
    "                  or regularizing the model), or reducing the noise in the training data.\n",
    "\n",
    "16. \n",
    "    Q - What is a test set, and why sould you want to use it?\n",
    "    A - A test set is a portion of your data that you use to validate, or score, \n",
    "        your model after it has been trained on the training data. You want to use it\n",
    "        in order to ensure that your model generalizes to new instances.\n",
    "    Book Anawer - A test set is used to estimate the generalization error that a model will make on new\n",
    "                  instances, before the model is launched into production.\n",
    "\n",
    "17.\n",
    "    Q - What is the purpose of a validation set?\n",
    "    A - \n",
    "    Book Answer - A validation set is used to compare models. It makes it possible to select the best model\n",
    "                  and tune the hyperparameters.\n",
    "\n",
    "18. \n",
    "    Q - What is the train dev set, when do you need it, and how do you use it?\n",
    "    A - \n",
    "    Book Answer - The train-dev set is used when there is a risk of mismatch between the training data and\n",
    "                  the data used in the validation and the test datasets (which should always be as close as\n",
    "                  posssible to the data used once the model is in production). The train-dev set is a part \n",
    "                  of the training set that's held out (the model is not trained on it). The model is trained\n",
    "                  on the rest of the training  set, and evaluated on both the train-dev set and the validation\n",
    "                  set. If the model performs well on on the training set but not on the train-dev set, it is\n",
    "                  likely overfitting the trainning set. If it performs well on both the training set and the\n",
    "                  train-dev set, but not on the validation set, then there is probably a significant data\n",
    "                  mismatch between the training data and the validation + test data, and you should try to\n",
    "                  improve the training data to make it look more like the validation + test data.\n",
    "\n",
    "19.\n",
    "    Q - What can go wrong if you tune hyperparameters using the test set?\n",
    "    A - Overfit?\n",
    "    Book Answer - If you tune the hyperparameters using the test set, you risk overfitting the test set, and\n",
    "                  the generalization error you measure will be optimistic (you may launch a model that performs\n",
    "                  worse than you expect).\n",
    "\n",
    "\"\"\"\n",
    "\n",
    "print()"
   ]
  },
  {
   "cell_type": "code",
   "execution_count": null,
   "metadata": {},
   "outputs": [],
   "source": []
  }
 ],
 "metadata": {
  "kernelspec": {
   "display_name": "Python 3",
   "language": "python",
   "name": "python3"
  },
  "language_info": {
   "codemirror_mode": {
    "name": "ipython",
    "version": 3
   },
   "file_extension": ".py",
   "mimetype": "text/x-python",
   "name": "python",
   "nbconvert_exporter": "python",
   "pygments_lexer": "ipython3",
   "version": "3.9.0"
  }
 },
 "nbformat": 4,
 "nbformat_minor": 5
}
